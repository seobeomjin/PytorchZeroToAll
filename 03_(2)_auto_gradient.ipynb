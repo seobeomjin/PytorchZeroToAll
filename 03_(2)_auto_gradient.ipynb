{
 "cells": [
  {
   "cell_type": "code",
   "execution_count": 1,
   "metadata": {},
   "outputs": [
    {
     "name": "stdout",
     "output_type": "stream",
     "text": "predict (before training) 4 tensor(4.)\n\tgrad:  1.0 2.0 tensor(-2.)\n\tgrad:  2.0 4.0 tensor(-7.8400)\n\tgrad:  3.0 6.0 tensor(-16.2288)\nprogress: 0 tensor(7.3159)\n\tgrad:  1.0 2.0 tensor(-1.4786)\n\tgrad:  2.0 4.0 tensor(-5.7962)\n\tgrad:  3.0 6.0 tensor(-11.9981)\nprogress: 1 tensor(3.9988)\n\tgrad:  1.0 2.0 tensor(-1.0932)\n\tgrad:  2.0 4.0 tensor(-4.2852)\n\tgrad:  3.0 6.0 tensor(-8.8704)\nprogress: 2 tensor(2.1857)\n\tgrad:  1.0 2.0 tensor(-0.8082)\n\tgrad:  2.0 4.0 tensor(-3.1681)\n\tgrad:  3.0 6.0 tensor(-6.5580)\nprogress: 3 tensor(1.1946)\n\tgrad:  1.0 2.0 tensor(-0.5975)\n\tgrad:  2.0 4.0 tensor(-2.3422)\n\tgrad:  3.0 6.0tensor(-4.8484)\nprogress: 4 tensor(0.6530)\n\tgrad:  1.0 2.0 tensor(-0.4417)\n\tgrad:  2.0 4.0 tensor(-1.7316)\n\tgrad:  3.0 6.0 tensor(-3.5845)\nprogress: 5 tensor(0.3569)\n\tgrad:  1.0 2.0 tensor(-0.3266)\n\tgrad:  2.0 4.0 tensor(-1.2802)\n\tgrad:  3.0 6.0 tensor(-2.6500)\nprogress: 6 tensor(0.1951)\n\tgrad:  1.0 2.0 tensor(-0.2414)\n\tgrad:  2.0 4.0 tensor(-0.9465)\n\tgrad:  3.0 6.0 tensor(-1.9592)\nprogress: 7 tensor(0.1066)\n\tgrad:  1.0 2.0 tensor(-0.1785)\n\tgrad:  2.0 4.0 tensor(-0.6997)\n\tgrad:  3.0 6.0 tensor(-1.4485)\nprogress: 8 tensor(0.0583)\n\tgrad:  1.0 2.0 tensor(-0.1320)\n\tgrad:  2.0 4.0 tensor(-0.5173)\n\tgrad:  3.0 6.0 tensor(-1.0709)\nprogress: 9 tensor(0.0319)\npredict (after training) 4 tensor(7.8049)\n"
    }
   ],
   "source": [
    "import torch \n",
    "from torch.autograd import Variable  #(1) autograd\n",
    "x_data = [1.0, 2.0, 3.0]\n",
    "y_data = [2.0, 4.0, 6.0]\n",
    "\n",
    "w = Variable(torch.Tensor([1.0]), requires_grad=True) # Any random value\n",
    "\n",
    "# our model forward pass\n",
    "#전방 계산 \n",
    "def forward(x): \n",
    "    return x * w\n",
    "\n",
    "# Loss function\n",
    "# loss 설정, 목적함수 역할  \n",
    "def loss(x, y): \n",
    "    y_pred = forward(x) \n",
    "    return (y_pred - y) * (y_pred - y)\n",
    "\n",
    "# Before training \n",
    "print(\"predict (before training)\", 4, forward(4).data[0])\n",
    "\n",
    "# Training loop \n",
    "for epoch in range(10): \n",
    "    for x_val, y_val in zip(x_data, y_data): \n",
    "        l = loss(x_val, y_val) # forward pass in the function and then compute loss \n",
    "        l.backward()  # back propagation 진행 , 이 과정에서 모든 변수들이 .grad 함수를 가짐 \n",
    "        print(\"\\tgrad: \", x_val, y_val, w.grad.data[0]) \n",
    "        w.data = w.data - 0.01 * w.grad.data # w.grad.data는 gradient 값 \n",
    "        \n",
    "        # Manually zero the gradients after updating weights \n",
    "        w.grad.data.zero_() # 기존의 누적 변화도 제거 \n",
    "\n",
    "    print(\"progress:\", epoch, l.data[0])\n",
    "# After training \n",
    "print(\"predict (after training)\", 4, forward(4).data[0])"
   ]
  },
  {
   "cell_type": "markdown",
   "execution_count": null,
   "metadata": {},
   "outputs": [],
   "source": [
    "1) 실습 1번 코드와 다른 부분을 명시 하시오. Line 31의 w.grad.data는 어떤 값을 가지는가.<br>"
   ]
  },
  {
   "cell_type": "markdown",
   "execution_count": null,
   "metadata": {},
   "outputs": [],
   "source": [
    "2) Autograd의 기능에 대해 설명하시오.\n",
    "\n",
    "autograd 는 tensor로 수행한 모든 연산에 대해 자동 미분 기능을 제공한다. autograd 는 실행 시점에 정의되는 프레임워크.<br> \n",
    "즉, 코드가 어떻게 실행되냐에 따라 backprop가 정의된다. 따라서 반복마다 역전파가 달라질 수 있다.  <br><br> \n",
    "autograd.Variable ,, autograd 패키지의 핵심 클래스 Variable ,, <br>\n",
    "Variable 클래스는 Tensor를 감싸고 있으며, Tensor에 정의된 거의 모든 연산을 지원한다. 모든 계산을 마친 뒤, .backward()를 호출하면, 자동으로 모든 weight가 계산된다. <br> \n",
    "Variable 객체의 .data 속성으로 Tensor의 실제 데이터에 접근할 수 있다. Variable에 대한 기울기는 .grad 속성에 저장된다. \n",
    "\n"
   ]
  },
  {
   "cell_type": "code",
   "execution_count": null,
   "metadata": {},
   "outputs": [],
   "source": []
  }
 ],
 "metadata": {
  "kernelspec": {
   "display_name": "develroom-pytorch",
   "language": "python",
   "name": "develroom"
  },
  "language_info": {
   "codemirror_mode": {
    "name": "ipython",
    "version": 3
   },
   "file_extension": ".py",
   "mimetype": "text/x-python",
   "name": "python",
   "nbconvert_exporter": "python",
   "pygments_lexer": "ipython3",
   "version": "3.7.5"
  }
 },
 "nbformat": 4,
 "nbformat_minor": 2
}